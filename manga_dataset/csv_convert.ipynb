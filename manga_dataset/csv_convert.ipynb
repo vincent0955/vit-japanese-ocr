{
 "cells": [
  {
   "cell_type": "code",
   "execution_count": 21,
   "metadata": {},
   "outputs": [
    {
     "name": "stdout",
     "output_type": "stream",
     "text": [
      "\n",
      "CSV Data after deleting the column 'year':\n",
      "\n",
      "                             text           crop_path\n",
      "0                               あ  crops/00000001.png\n",
      "1                            キャーッ  crops/00000005.png\n",
      "2               はやく逃げないとまきぞえくっちゃう  crops/00000007.png\n",
      "3                              え？  crops/0000000b.png\n",
      "4              今の時代は人を見たら敵と思えなのよっ  crops/00000013.png\n",
      "...                           ...                 ...\n",
      "113609     そういえば芹香撮影がどーしたとかいってたけど  crops/00081ab3.png\n",
      "113610  じゃあさお買い物いこーよこのあいだいけなかったぶん  crops/00081ab4.png\n",
      "113611                  元気だよねぇ・・・  crops/00081ab8.png\n",
      "113612           あれって今日あたりじゃなかった？  crops/00081ab9.png\n",
      "113613                    つづきしよっか  crops/00081abc.png\n",
      "\n",
      "[113614 rows x 2 columns]\n"
     ]
    }
   ],
   "source": [
    "# import pandas with shortcut 'pd' \n",
    "import pandas as pd \n",
    "  \n",
    "# read_csv function which is used to read the required CSV file \n",
    "data = pd.read_csv('data.csv') \n",
    "  \n",
    "# display \n",
    "#print(\"Original 'data.csv' CSV Data: \\n\") \n",
    "#print(data) \n",
    "  \n",
    "# pop function which is used in removing or deleting columns from the CSV files \n",
    "data.pop('book')\n",
    "data.pop('page_index')\n",
    "data.pop('page_path')\n",
    "data.pop('page_width')\n",
    "data.pop('page_height')\n",
    "data.pop('id')\n",
    "data.pop('xmin')\n",
    "data.pop('ymin')\n",
    "data.pop('xmax')\n",
    "data.pop('ymax')\n",
    "data.pop('split')\n",
    "  \n",
    "# display \n",
    "print(\"\\nCSV Data after deleting the column 'year':\\n\") \n",
    "print(data) \n",
    "\n",
    "data.to_csv('data2.csv', index=False)"
   ]
  },
  {
   "cell_type": "code",
   "execution_count": 26,
   "metadata": {},
   "outputs": [
    {
     "name": "stdout",
     "output_type": "stream",
     "text": [
      "                 crop_path                       text\n",
      "0       crops/00000001.png                          あ\n",
      "1       crops/00000005.png                       キャーッ\n",
      "2       crops/00000007.png          はやく逃げないとまきぞえくっちゃう\n",
      "3       crops/0000000b.png                         え？\n",
      "4       crops/00000013.png         今の時代は人を見たら敵と思えなのよっ\n",
      "...                    ...                        ...\n",
      "113609  crops/00081ab3.png     そういえば芹香撮影がどーしたとかいってたけど\n",
      "113610  crops/00081ab4.png  じゃあさお買い物いこーよこのあいだいけなかったぶん\n",
      "113611  crops/00081ab8.png                  元気だよねぇ・・・\n",
      "113612  crops/00081ab9.png           あれって今日あたりじゃなかった？\n",
      "113613  crops/00081abc.png                    つづきしよっか\n",
      "\n",
      "[113614 rows x 2 columns]\n"
     ]
    }
   ],
   "source": [
    "data = pd.read_csv('data2.csv') \n",
    "\n",
    "columns_titles = [\"crop_path\",\"text\"]\n",
    "data=data.reindex(columns=columns_titles)\n",
    "print(data) \n",
    "\n",
    "data.to_csv('data2.csv', index=False)\n"
   ]
  }
 ],
 "metadata": {
  "kernelspec": {
   "display_name": "Python 3",
   "language": "python",
   "name": "python3"
  },
  "language_info": {
   "codemirror_mode": {
    "name": "ipython",
    "version": 3
   },
   "file_extension": ".py",
   "mimetype": "text/x-python",
   "name": "python",
   "nbconvert_exporter": "python",
   "pygments_lexer": "ipython3",
   "version": "3.9.1"
  }
 },
 "nbformat": 4,
 "nbformat_minor": 2
}
